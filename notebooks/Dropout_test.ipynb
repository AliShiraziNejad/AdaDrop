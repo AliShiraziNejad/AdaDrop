{
 "cells": [
  {
   "cell_type": "code",
   "execution_count": 1,
   "id": "d94737d65c918f92",
   "metadata": {
    "collapsed": true,
    "ExecuteTime": {
     "end_time": "2023-12-24T11:55:58.741146Z",
     "start_time": "2023-12-24T11:55:58.059665Z"
    }
   },
   "outputs": [],
   "source": [
    "import torch\n",
    "import torch.nn as nn\n",
    "from torch import Tensor\n",
    "import time\n",
    "import numpy as np\n",
    "import random"
   ]
  },
  {
   "cell_type": "code",
   "execution_count": 2,
   "outputs": [],
   "source": [
    "SEED = 123\n",
    "torch.manual_seed(SEED)\n",
    "torch.cuda.manual_seed_all(SEED)\n",
    "np.random.seed(SEED)\n",
    "random.seed(SEED)\n",
    "torch.use_deterministic_algorithms(True)\n",
    "torch.backends.cudnn.deterministic = True\n",
    "torch.backends.cudnn.benchmark = False"
   ],
   "metadata": {
    "collapsed": false,
    "ExecuteTime": {
     "end_time": "2023-12-24T11:55:58.756121Z",
     "start_time": "2023-12-24T11:55:58.742489Z"
    }
   },
   "id": "1004ad9e23ecc5ed"
  },
  {
   "cell_type": "code",
   "execution_count": 3,
   "outputs": [],
   "source": [
    "class CustomDropout(nn.Module):\n",
    "    def __init__(self, p: float = 0.5, inplace: bool = False) -> None:\n",
    "        super().__init__()\n",
    "        if p < 0 or p > 1:\n",
    "            raise ValueError(f\"dropout probability has to be between 0 and 1, but got {p}\")\n",
    "        self.p = p\n",
    "        self.inplace = inplace\n",
    "        \n",
    "    def forward(self, input: Tensor) -> Tensor:\n",
    "        if self.training:\n",
    "            mask = torch.bernoulli(torch.ones_like(input) * (1 - self.p)).to('cpu')\n",
    "            return input * mask / (1 - self.p)\n",
    "        return input"
   ],
   "metadata": {
    "collapsed": false,
    "ExecuteTime": {
     "end_time": "2023-12-24T11:55:58.756245Z",
     "start_time": "2023-12-24T11:55:58.746299Z"
    }
   },
   "id": "459b3aa15d27dd4c"
  },
  {
   "cell_type": "code",
   "execution_count": 4,
   "outputs": [],
   "source": [
    "custom_dropout = CustomDropout(p=0.5).to('cpu')\n",
    "torch_dropout = nn.Dropout(p=0.5).to('cpu')"
   ],
   "metadata": {
    "collapsed": false,
    "ExecuteTime": {
     "end_time": "2023-12-24T11:55:58.756280Z",
     "start_time": "2023-12-24T11:55:58.748505Z"
    }
   },
   "id": "1ed10e549f143be"
  },
  {
   "cell_type": "code",
   "execution_count": 5,
   "outputs": [
    {
     "data": {
      "text/plain": "tensor([[0.2961, 0.5166, 0.2517, 0.6886, 0.0740],\n        [0.8665, 0.1366, 0.1025, 0.1841, 0.7264],\n        [0.3153, 0.6871, 0.0756, 0.1966, 0.3164],\n        [0.4017, 0.1186, 0.8274, 0.3821, 0.6605],\n        [0.8536, 0.5932, 0.6367, 0.9826, 0.2745]])"
     },
     "execution_count": 5,
     "metadata": {},
     "output_type": "execute_result"
    }
   ],
   "source": [
    "x = torch.rand(5, 5).to('cpu')\n",
    "x"
   ],
   "metadata": {
    "collapsed": false,
    "ExecuteTime": {
     "end_time": "2023-12-24T11:55:58.756613Z",
     "start_time": "2023-12-24T11:55:58.750768Z"
    }
   },
   "id": "4a2f462a84a8cdd9"
  },
  {
   "cell_type": "code",
   "execution_count": 6,
   "outputs": [],
   "source": [
    "custom_dropout.train()\n",
    "torch_dropout.train()\n",
    "output_custom_train = custom_dropout(x)\n",
    "output_torch_train = torch_dropout(x)"
   ],
   "metadata": {
    "collapsed": false,
    "ExecuteTime": {
     "end_time": "2023-12-24T11:55:58.757863Z",
     "start_time": "2023-12-24T11:55:58.755010Z"
    }
   },
   "id": "2de439033223bc0e"
  },
  {
   "cell_type": "code",
   "execution_count": 7,
   "outputs": [],
   "source": [
    "custom_dropout.eval()\n",
    "torch_dropout.eval()\n",
    "output_custom_eval = custom_dropout(x)\n",
    "output_torch_eval = torch_dropout(x)"
   ],
   "metadata": {
    "collapsed": false,
    "ExecuteTime": {
     "end_time": "2023-12-24T11:55:58.771798Z",
     "start_time": "2023-12-24T11:55:58.757944Z"
    }
   },
   "id": "11f5569bf45c2ab0"
  },
  {
   "cell_type": "code",
   "execution_count": 8,
   "outputs": [],
   "source": [
    "num_runs = 1000"
   ],
   "metadata": {
    "collapsed": false,
    "ExecuteTime": {
     "end_time": "2023-12-24T11:55:58.772047Z",
     "start_time": "2023-12-24T11:55:58.759750Z"
    }
   },
   "id": "93cf2e22ea17f53a"
  },
  {
   "cell_type": "code",
   "execution_count": 9,
   "outputs": [],
   "source": [
    "start_time_custom = time.time()\n",
    "for _ in range(num_runs):\n",
    "    custom_dropout(x)\n",
    "end_time_custom = time.time()\n",
    "\n",
    "start_time_torch = time.time()\n",
    "for _ in range(num_runs):\n",
    "    torch_dropout(x)\n",
    "end_time_torch = time.time()\n",
    "\n",
    "time_custom = end_time_custom - start_time_custom\n",
    "time_torch = end_time_torch - start_time_torch"
   ],
   "metadata": {
    "collapsed": false,
    "ExecuteTime": {
     "end_time": "2023-12-24T11:55:58.789568Z",
     "start_time": "2023-12-24T11:55:58.763145Z"
    }
   },
   "id": "e1ee92bd9f1c1eda"
  },
  {
   "cell_type": "code",
   "execution_count": 10,
   "outputs": [
    {
     "data": {
      "text/plain": "(tensor([[0.0000, 1.0331, 0.0000, 0.0000, 0.1479],\n         [0.0000, 0.0000, 0.0000, 0.0000, 0.0000],\n         [0.6305, 1.3742, 0.1513, 0.3933, 0.0000],\n         [0.8035, 0.2371, 1.6548, 0.0000, 1.3210],\n         [0.0000, 1.1863, 0.0000, 0.0000, 0.0000]]),\n tensor([[0.5922, 0.0000, 0.5033, 0.0000, 0.1479],\n         [0.0000, 0.2732, 0.2050, 0.3681, 1.4529],\n         [0.0000, 1.3742, 0.0000, 0.0000, 0.0000],\n         [0.0000, 0.0000, 0.0000, 0.0000, 1.3210],\n         [0.0000, 1.1863, 1.2735, 0.0000, 0.5490]]))"
     },
     "execution_count": 10,
     "metadata": {},
     "output_type": "execute_result"
    }
   ],
   "source": [
    "output_custom_train, output_torch_train"
   ],
   "metadata": {
    "collapsed": false,
    "ExecuteTime": {
     "end_time": "2023-12-24T11:55:58.795106Z",
     "start_time": "2023-12-24T11:55:58.766965Z"
    }
   },
   "id": "fece77462dcf0c5d"
  },
  {
   "cell_type": "code",
   "execution_count": 11,
   "outputs": [
    {
     "data": {
      "text/plain": "(tensor([[0.2961, 0.5166, 0.2517, 0.6886, 0.0740],\n         [0.8665, 0.1366, 0.1025, 0.1841, 0.7264],\n         [0.3153, 0.6871, 0.0756, 0.1966, 0.3164],\n         [0.4017, 0.1186, 0.8274, 0.3821, 0.6605],\n         [0.8536, 0.5932, 0.6367, 0.9826, 0.2745]]),\n tensor([[0.2961, 0.5166, 0.2517, 0.6886, 0.0740],\n         [0.8665, 0.1366, 0.1025, 0.1841, 0.7264],\n         [0.3153, 0.6871, 0.0756, 0.1966, 0.3164],\n         [0.4017, 0.1186, 0.8274, 0.3821, 0.6605],\n         [0.8536, 0.5932, 0.6367, 0.9826, 0.2745]]))"
     },
     "execution_count": 11,
     "metadata": {},
     "output_type": "execute_result"
    }
   ],
   "source": [
    "output_custom_eval, output_torch_eval"
   ],
   "metadata": {
    "collapsed": false,
    "ExecuteTime": {
     "end_time": "2023-12-24T11:55:58.795535Z",
     "start_time": "2023-12-24T11:55:58.769784Z"
    }
   },
   "id": "eba795b1f15dd402"
  },
  {
   "cell_type": "code",
   "execution_count": 12,
   "outputs": [
    {
     "data": {
      "text/plain": "(0.0005321502685546875, 0.002566814422607422)"
     },
     "execution_count": 12,
     "metadata": {},
     "output_type": "execute_result"
    }
   ],
   "source": [
    "time_custom, time_torch"
   ],
   "metadata": {
    "collapsed": false,
    "ExecuteTime": {
     "end_time": "2023-12-24T11:55:58.795863Z",
     "start_time": "2023-12-24T11:55:58.773131Z"
    }
   },
   "id": "initial_id"
  }
 ],
 "metadata": {
  "kernelspec": {
   "display_name": "Python 3",
   "language": "python",
   "name": "python3"
  },
  "language_info": {
   "codemirror_mode": {
    "name": "ipython",
    "version": 2
   },
   "file_extension": ".py",
   "mimetype": "text/x-python",
   "name": "python",
   "nbconvert_exporter": "python",
   "pygments_lexer": "ipython2",
   "version": "2.7.6"
  }
 },
 "nbformat": 4,
 "nbformat_minor": 5
}
